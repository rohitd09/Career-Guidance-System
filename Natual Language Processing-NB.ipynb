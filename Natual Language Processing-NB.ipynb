{
 "cells": [
  {
   "cell_type": "code",
   "execution_count": 1,
   "metadata": {},
   "outputs": [],
   "source": [
    "import numpy as np\n",
    "import matplotlib.pyplot as plt\n",
    "import pandas as pd"
   ]
  },
  {
   "cell_type": "code",
   "execution_count": 2,
   "metadata": {},
   "outputs": [],
   "source": [
    "dataset = pd.read_csv('IT_jobs.csv')"
   ]
  },
  {
   "cell_type": "code",
   "execution_count": 3,
   "metadata": {},
   "outputs": [
    {
     "name": "stderr",
     "output_type": "stream",
     "text": [
      "[nltk_data] Downloading package stopwords to\n",
      "[nltk_data]     C:\\Users\\suman\\AppData\\Roaming\\nltk_data...\n",
      "[nltk_data]   Package stopwords is already up-to-date!\n"
     ]
    }
   ],
   "source": [
    "import re\n",
    "import nltk\n",
    "\n",
    "nltk.download('stopwords')\n",
    "\n",
    "from nltk.corpus import stopwords\n",
    "from nltk.stem.porter import PorterStemmer\n",
    "\n",
    "corpus = []\n",
    "for i in range(0, 10000):\n",
    "    review = re.sub('[^a-zA-Z]', ' ', dataset['Description'][i])\n",
    "    review = review.lower()\n",
    "    review = review.split()\n",
    "    ps = PorterStemmer()\n",
    "    all_stopwords = stopwords.words('english')\n",
    "    all_stopwords.remove('not')\n",
    "    review = [ps.stem(word) for word in review if not word in set(all_stopwords)]\n",
    "    review = ' '.join(review)\n",
    "    corpus.append(review)"
   ]
  },
  {
   "cell_type": "code",
   "execution_count": 4,
   "metadata": {},
   "outputs": [
    {
     "name": "stderr",
     "output_type": "stream",
     "text": [
      "IOPub data rate exceeded.\n",
      "The notebook server will temporarily stop sending output\n",
      "to the client in order to avoid crashing it.\n",
      "To change this limit, set the config variable\n",
      "`--NotebookApp.iopub_data_rate_limit`.\n",
      "\n",
      "Current values:\n",
      "NotebookApp.iopub_data_rate_limit=1000000.0 (bytes/sec)\n",
      "NotebookApp.rate_limit_window=3.0 (secs)\n",
      "\n"
     ]
    }
   ],
   "source": [
    "print(corpus)"
   ]
  },
  {
   "cell_type": "code",
   "execution_count": 5,
   "metadata": {},
   "outputs": [],
   "source": [
    "from sklearn.feature_extraction.text import CountVectorizer\n",
    "\n",
    "cv = CountVectorizer(max_features = 25000)\n",
    "x = cv.fit_transform(corpus).toarray()\n",
    "y = dataset.iloc[:, -1].values"
   ]
  },
  {
   "cell_type": "code",
   "execution_count": 6,
   "metadata": {},
   "outputs": [
    {
     "data": {
      "text/plain": [
       "25000"
      ]
     },
     "execution_count": 6,
     "metadata": {},
     "output_type": "execute_result"
    }
   ],
   "source": [
    "len(x[0])"
   ]
  },
  {
   "cell_type": "code",
   "execution_count": 7,
   "metadata": {},
   "outputs": [],
   "source": [
    "from sklearn.model_selection import train_test_split\n",
    "\n",
    "x_train, x_test, y_train, y_test = train_test_split(x, y, test_size = 0.2, random_state = 0)"
   ]
  },
  {
   "cell_type": "code",
   "execution_count": 8,
   "metadata": {},
   "outputs": [
    {
     "data": {
      "text/plain": [
       "GaussianNB()"
      ]
     },
     "execution_count": 8,
     "metadata": {},
     "output_type": "execute_result"
    }
   ],
   "source": [
    "from sklearn.naive_bayes import GaussianNB\n",
    "\n",
    "classifier = GaussianNB()\n",
    "classifier.fit(x_train, y_train)"
   ]
  },
  {
   "cell_type": "code",
   "execution_count": 9,
   "metadata": {},
   "outputs": [
    {
     "name": "stdout",
     "output_type": "stream",
     "text": [
      "[['IT Consultant' 'Information Security Analyst']\n",
      " ['Data Architect' 'Data Architect']\n",
      " ['Technical Operations' 'Business Analyst']\n",
      " ...\n",
      " ['Business Intelligence Analyst' 'Network Architect']\n",
      " ['Data Warehousing' 'Business Analyst']\n",
      " ['IT Consultant' 'IT Consultant']]\n"
     ]
    }
   ],
   "source": [
    "y_pred = classifier.predict(x_test)\n",
    "print(np.concatenate((y_pred.reshape(len(y_pred), 1), y_test.reshape(len(y_test), 1)), 1))"
   ]
  },
  {
   "cell_type": "code",
   "execution_count": 10,
   "metadata": {},
   "outputs": [
    {
     "name": "stdout",
     "output_type": "stream",
     "text": [
      "[[29  3  0  2  5  2  2  1  1  0  6  5  2  0  0  2  1  0  0  0  9  1  1  2\n",
      "   1]\n",
      " [ 4 25  1  1  2  6  0  6  5  0  1  4  3  2  2  0  3  1  0  0  5  1  0  1\n",
      "   0]\n",
      " [ 1  2 14  7  4  1  6  4  2  2  4  3  4  4  3  1  1  6  0  5  3  2  1  4\n",
      "   2]\n",
      " [ 1  1  9 17  1  1  4  7  2  2  2  5  6  7  1  1  1  1  1  3  1  3  1  2\n",
      "   2]\n",
      " [ 0  0  0  2 37 12  1  8  2  0  2  4  0  4  1  3  4  1  1  3  1 12  0  0\n",
      "   3]\n",
      " [ 1  2  0  1  7 38  1  0  4  1  1  2  0  2  2  0  6  1  0  1  2  4  0  2\n",
      "   1]\n",
      " [ 2  2  6  5  0  1  5  2  5  8  2  4  3  3  3  1  2  0  0  0  2  0  2  3\n",
      "   4]\n",
      " [ 3  7  4  1  5  1  2 18  5  2  2  4  2  1  2  0  2  1  0  6  0  2  0  0\n",
      "   2]\n",
      " [ 1  1  1  1  9  1  4  4 12  3  7  5  3  2  1  1  2  0  1  2  1  5  1  3\n",
      "   1]\n",
      " [ 2  1  1  4  3  1  2  1  2 19  1  1  2  3  3  2  0  3  0  1  0  6  8  4\n",
      "   1]\n",
      " [ 2  2  5  2  3  3  4  3  6  3 23  5  0  5  1  3  1  0  0  0  9  1  1  1\n",
      "   3]\n",
      " [ 3  2  2  4  3  1  3  3  3  2  7 20  2  1  1  0  0  0  0  3  5  1  1  1\n",
      "   1]\n",
      " [ 2  3  0  2  0  0  1  4  4  6  3  1 36  4  2  1  1  1  0  0  2  0  7  3\n",
      "   2]\n",
      " [ 3  2  4  8  3  1  4  2  1  0  3  9  2 15  4  1  2  2  0  0  4  0  1  1\n",
      "   3]\n",
      " [ 0  5  1  2  6  2  4  3  0  5  1  1  6  0 21  0  0  3  4  0  1  2  8  2\n",
      "   5]\n",
      " [ 8  0  1  0  4  0  1  2  1  2  6  2  0  3  0 48  0  6  0  0  5  1  0  1\n",
      "   5]\n",
      " [ 3  8  1  0  2 16  0  2  1  0  1  2  1  0  0  0 27  0  0  1  4  2  1  1\n",
      "   2]\n",
      " [ 0  0  1  1  1  2  0  0  1  2  1  3  3  5  1  3  0 49  0  2  2  3  2  4\n",
      "   3]\n",
      " [ 0  1  0  1  5  4  1  2  7  4  0  1  1  0  7  0  3  2 27  3  0  6  2  2\n",
      "   6]\n",
      " [ 2  0  1  2  2  1  2  3  0  0  1  2  3  0  5  1  0  2  5 34  0  2  6  2\n",
      "   5]\n",
      " [ 1  2  0  0  2  2  0  3  3  1  6  2  3  5  3  2  0  0  0  0 29  2  0  0\n",
      "   1]\n",
      " [ 2  2  3  2  9  1  0  5  0  0  3  1  2  0  0  1  0  1  1  4  2 58  0  1\n",
      "   2]\n",
      " [ 1  0  2  1  1  0  4  1  0  4  2  3  1  2  8  0  0  1  0  3  1  0 26  9\n",
      "   2]\n",
      " [ 2  3  1  1  2  3  6  1  4  4  1  3  5  4  3  3  1  2  3  1  5  0 11 26\n",
      "   3]\n",
      " [ 1  0  2  2  2  2  2  4  3  1  0  2  2  2  2  4  6  0  1  1  0  4  1  1\n",
      "  19]]\n",
      "\n",
      " 33.6 %\n"
     ]
    }
   ],
   "source": [
    "from sklearn.metrics import confusion_matrix, accuracy_score\n",
    "\n",
    "cm = confusion_matrix(y_test, y_pred)\n",
    "print(cm)\n",
    "print(\"\\n\",accuracy_score(y_test, y_pred) * 100,\"%\")"
   ]
  },
  {
   "cell_type": "code",
   "execution_count": 11,
   "metadata": {},
   "outputs": [
    {
     "data": {
      "text/plain": [
       "(0.33533998116981706, 0.32915195053364615, 0.32796714665289994, None)"
      ]
     },
     "execution_count": 11,
     "metadata": {},
     "output_type": "execute_result"
    }
   ],
   "source": [
    "from sklearn.metrics import precision_recall_fscore_support\n",
    "precision_recall_fscore_support(y_test, y_pred, average='macro')"
   ]
  },
  {
   "cell_type": "code",
   "execution_count": null,
   "metadata": {},
   "outputs": [],
   "source": []
  }
 ],
 "metadata": {
  "kernelspec": {
   "display_name": "Python 3",
   "language": "python",
   "name": "python3"
  },
  "language_info": {
   "codemirror_mode": {
    "name": "ipython",
    "version": 3
   },
   "file_extension": ".py",
   "mimetype": "text/x-python",
   "name": "python",
   "nbconvert_exporter": "python",
   "pygments_lexer": "ipython3",
   "version": "3.8.5"
  }
 },
 "nbformat": 4,
 "nbformat_minor": 4
}
