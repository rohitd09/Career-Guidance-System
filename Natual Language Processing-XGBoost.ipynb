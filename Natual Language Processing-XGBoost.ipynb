{
 "cells": [
  {
   "cell_type": "code",
   "execution_count": 1,
   "metadata": {},
   "outputs": [],
   "source": [
    "import numpy as np\n",
    "import matplotlib.pyplot as plt\n",
    "import pandas as pd"
   ]
  },
  {
   "cell_type": "code",
   "execution_count": 2,
   "metadata": {},
   "outputs": [],
   "source": [
    "dataset = pd.read_csv('IT_jobs.csv')"
   ]
  },
  {
   "cell_type": "code",
   "execution_count": 3,
   "metadata": {},
   "outputs": [
    {
     "name": "stderr",
     "output_type": "stream",
     "text": [
      "[nltk_data] Downloading package stopwords to\n",
      "[nltk_data]     C:\\Users\\suman\\AppData\\Roaming\\nltk_data...\n",
      "[nltk_data]   Package stopwords is already up-to-date!\n"
     ]
    }
   ],
   "source": [
    "import re\n",
    "import nltk\n",
    "\n",
    "nltk.download('stopwords')\n",
    "\n",
    "from nltk.corpus import stopwords\n",
    "from nltk.stem.porter import PorterStemmer\n",
    "\n",
    "corpus = []\n",
    "for i in range(0, 10000):\n",
    "    review = re.sub('[^a-zA-Z]', ' ', dataset['Description'][i])\n",
    "    review = review.lower()\n",
    "    review = review.split()\n",
    "    ps = PorterStemmer()\n",
    "    all_stopwords = stopwords.words('english')\n",
    "    all_stopwords.remove('not')\n",
    "    review = [ps.stem(word) for word in review if not word in set(all_stopwords)]\n",
    "    review = ' '.join(review)\n",
    "    corpus.append(review)"
   ]
  },
  {
   "cell_type": "code",
   "execution_count": 4,
   "metadata": {},
   "outputs": [],
   "source": [
    "from sklearn.feature_extraction.text import CountVectorizer\n",
    "\n",
    "cv = CountVectorizer(max_features = 7000)\n",
    "x = cv.fit_transform(corpus).toarray()\n",
    "y = dataset.iloc[:, -1].values"
   ]
  },
  {
   "cell_type": "code",
   "execution_count": 5,
   "metadata": {},
   "outputs": [
    {
     "data": {
      "text/plain": [
       "7000"
      ]
     },
     "execution_count": 5,
     "metadata": {},
     "output_type": "execute_result"
    }
   ],
   "source": [
    "len(x[0])"
   ]
  },
  {
   "cell_type": "code",
   "execution_count": 6,
   "metadata": {},
   "outputs": [],
   "source": [
    "from sklearn.model_selection import train_test_split\n",
    "\n",
    "x_train, x_test, y_train, y_test = train_test_split(x, y, test_size = 0.2, random_state = 0)"
   ]
  },
  {
   "cell_type": "code",
   "execution_count": 10,
   "metadata": {},
   "outputs": [
    {
     "name": "stderr",
     "output_type": "stream",
     "text": [
      "C:\\Users\\suman\\anaconda3\\lib\\site-packages\\xgboost\\sklearn.py:1224: UserWarning: The use of label encoder in XGBClassifier is deprecated and will be removed in a future release. To remove this warning, do the following: 1) Pass option use_label_encoder=False when constructing XGBClassifier object; and 2) Encode your labels (y) as integers starting with 0, i.e. 0, 1, 2, ..., [num_class - 1].\n",
      "  warnings.warn(label_encoder_deprecation_msg, UserWarning)\n"
     ]
    },
    {
     "name": "stdout",
     "output_type": "stream",
     "text": [
      "[00:45:32] WARNING: C:/Users/Administrator/workspace/xgboost-win64_release_1.5.0/src/learner.cc:1115: Starting in XGBoost 1.3.0, the default evaluation metric used with the objective 'multi:softprob' was changed from 'merror' to 'mlogloss'. Explicitly set eval_metric if you'd like to restore the old behavior.\n"
     ]
    },
    {
     "data": {
      "text/plain": [
       "XGBClassifier(base_score=0.5, booster='gbtree', colsample_bylevel=1,\n",
       "              colsample_bynode=1, colsample_bytree=1, enable_categorical=False,\n",
       "              gamma=0, gpu_id=-1, importance_type=None,\n",
       "              interaction_constraints='', learning_rate=0.300000012,\n",
       "              max_delta_step=0, max_depth=6, min_child_weight=1, missing=nan,\n",
       "              monotone_constraints='()', n_estimators=100, n_jobs=12,\n",
       "              num_parallel_tree=1, objective='multi:softprob', predictor='auto',\n",
       "              random_state=0, reg_alpha=0, reg_lambda=1, scale_pos_weight=None,\n",
       "              subsample=1, tree_method='exact', validate_parameters=1,\n",
       "              verbosity=None)"
      ]
     },
     "execution_count": 10,
     "metadata": {},
     "output_type": "execute_result"
    }
   ],
   "source": [
    "from xgboost import XGBClassifier\n",
    "\n",
    "classifier = XGBClassifier()\n",
    "classifier.fit(x_train, y_train)"
   ]
  },
  {
   "cell_type": "code",
   "execution_count": 11,
   "metadata": {},
   "outputs": [
    {
     "name": "stdout",
     "output_type": "stream",
     "text": [
      "[['Information Security Analyst' 'Information Security Analyst']\n",
      " ['Data Architect' 'Data Architect']\n",
      " ['Business Analyst' 'Business Analyst']\n",
      " ...\n",
      " ['Network Architect' 'Network Architect']\n",
      " ['Business Analyst' 'Business Analyst']\n",
      " ['IT Consultant' 'IT Consultant']]\n"
     ]
    }
   ],
   "source": [
    "y_pred = classifier.predict(x_test)\n",
    "print(np.concatenate((y_pred.reshape(len(y_pred), 1), y_test.reshape(len(y_test), 1)), 1))"
   ]
  },
  {
   "cell_type": "code",
   "execution_count": 12,
   "metadata": {},
   "outputs": [
    {
     "name": "stdout",
     "output_type": "stream",
     "text": [
      "[[63  0  0  0  0  1  0  1  0  0  3  1  0  0  0  0  1  0  0  0  4  0  0  1\n",
      "   0]\n",
      " [ 1 42  0  1  0  1  0  2 15  0  2  1  2  0  1  1  0  0  0  0  2  1  0  1\n",
      "   0]\n",
      " [ 0  0 56  4  1  0  7  0  0  2  0  1  0  4  2  0  0  2  1  1  0  0  2  2\n",
      "   1]\n",
      " [ 0  0  4 54  0  0  6  2  0  0  1  5  3  4  2  0  0  0  0  0  0  0  0  0\n",
      "   1]\n",
      " [ 1  0  0  1 79  6  0  2  0  0  0  1  0  0  0  0  1  0  1  1  0  8  0  0\n",
      "   0]\n",
      " [ 3  0  0  0  7 56  0  1  0  0  0  1  0  1  2  0  4  1  0  0  1  1  0  1\n",
      "   0]\n",
      " [ 0  0  6  6  0  0 32  0  2  3  4  0  1  2  2  0  0  1  0  3  0  0  2  1\n",
      "   0]\n",
      " [ 0  2  4  1  7  0  1 41  3  1  2  0  1  1  0  0  0  1  0  0  1  6  0  0\n",
      "   0]\n",
      " [ 2  6  0  0  1  3  2  5 27  6  4  0  2  1  0  0  1  0  1  1  3  0  1  4\n",
      "   2]\n",
      " [ 0  0  1  1  0  0  1  1  0 53  0  0  1  2  2  1  0  1  1  1  0  0  2  2\n",
      "   1]\n",
      " [ 1  1  0  2  1  0  2  1  6  1 56  2  0  1  1  1  0  0  0  0  4  0  4  0\n",
      "   2]\n",
      " [ 3  1  0  0  0  0  2  3  0  0  4 56  0  0  0  0  0  0  0  0  0  0  0  0\n",
      "   0]\n",
      " [ 0  1  0  0  0  0  1  0  2  0  0  1 80  0  0  0  0  0  0  0  0  0  0  0\n",
      "   0]\n",
      " [ 1  1  0  1  0  2  4  0  0  1  2  6  4 46  1  1  0  0  0  0  5  0  0  0\n",
      "   0]\n",
      " [ 0  0  0  0  0  0  2  3  0  1  0  1  3  1 67  1  0  0  1  0  0  2  0  0\n",
      "   0]\n",
      " [ 1  1  0  0  0  0  0  0  0  1  0  0  0  2  0 85  0  1  0  0  4  0  0  1\n",
      "   0]\n",
      " [ 1  1  1  0  0  5  0  0  2  0  0  0  0  0  0  0 64  0  0  0  0  0  0  0\n",
      "   1]\n",
      " [ 0  0  1  0  0  1  2  0  0  0  0  0  0  2  4  0  0 70  0  1  0  0  1  2\n",
      "   5]\n",
      " [ 0  1  1  0  1  1  0  0  0  2  0  0  1  1  7  0  1  1 64  0  0  0  1  0\n",
      "   3]\n",
      " [ 0  0  0  0  0  0  3  0  0  0  0  0  0  0  2  0  0  1  0 70  0  1  1  1\n",
      "   2]\n",
      " [ 5  1  0  1  1  1  0  0  0  0  6  1  0  3  0  3  0  0  0  0 43  0  1  0\n",
      "   1]\n",
      " [ 0  1  0  0 10  0  0  0  0  0  0  0  0  0  0  1  0  0  1  0  1 85  0  0\n",
      "   1]\n",
      " [ 0  0  1  0  0  0  6  0  0  1  1  0  0  1  0  0  0  0  0  0  1  0 60  1\n",
      "   0]\n",
      " [ 0  0  2  0  1  1  1  0  5  4  0  0  1  1  1  0  1  4  1  0  0  0  3 70\n",
      "   2]\n",
      " [ 0  0  1  0  1  2  1  2  2  0  0  0  0  1  1  0  2  0  2  1  0  0  0  1\n",
      "  47]]\n",
      "\n",
      " 73.3 %\n"
     ]
    }
   ],
   "source": [
    "from sklearn.metrics import confusion_matrix, accuracy_score\n",
    "\n",
    "cm = confusion_matrix(y_test, y_pred)\n",
    "print(cm)\n",
    "print(\"\\n\",accuracy_score(y_test, y_pred) * 100,\"%\")"
   ]
  },
  {
   "cell_type": "code",
   "execution_count": 13,
   "metadata": {},
   "outputs": [
    {
     "data": {
      "text/plain": [
       "(0.7254266125290891, 0.7259936980414408, 0.7239869542840541, None)"
      ]
     },
     "execution_count": 13,
     "metadata": {},
     "output_type": "execute_result"
    }
   ],
   "source": [
    "from sklearn.metrics import precision_recall_fscore_support\n",
    "precision_recall_fscore_support(y_test, y_pred, average='macro')"
   ]
  },
  {
   "cell_type": "code",
   "execution_count": 9,
   "metadata": {},
   "outputs": [
    {
     "name": "stdout",
     "output_type": "stream",
     "text": [
      "Collecting xgboost\n",
      "  Downloading xgboost-1.5.0-py3-none-win_amd64.whl (106.6 MB)\n",
      "Requirement already satisfied: numpy in c:\\users\\suman\\anaconda3\\lib\\site-packages (from xgboost) (1.19.2)\n",
      "Requirement already satisfied: scipy in c:\\users\\suman\\anaconda3\\lib\\site-packages (from xgboost) (1.5.2)\n",
      "Installing collected packages: xgboost\n",
      "Successfully installed xgboost-1.5.0\n",
      "Note: you may need to restart the kernel to use updated packages.\n"
     ]
    }
   ],
   "source": [
    "#pip install xgboost"
   ]
  },
  {
   "cell_type": "code",
   "execution_count": null,
   "metadata": {},
   "outputs": [],
   "source": []
  }
 ],
 "metadata": {
  "kernelspec": {
   "display_name": "Python 3",
   "language": "python",
   "name": "python3"
  },
  "language_info": {
   "codemirror_mode": {
    "name": "ipython",
    "version": 3
   },
   "file_extension": ".py",
   "mimetype": "text/x-python",
   "name": "python",
   "nbconvert_exporter": "python",
   "pygments_lexer": "ipython3",
   "version": "3.8.5"
  }
 },
 "nbformat": 4,
 "nbformat_minor": 4
}
