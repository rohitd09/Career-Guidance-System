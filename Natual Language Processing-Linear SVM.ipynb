{
 "cells": [
  {
   "cell_type": "code",
   "execution_count": 1,
   "metadata": {},
   "outputs": [],
   "source": [
    "import numpy as np\n",
    "import matplotlib.pyplot as plt\n",
    "import pandas as pd"
   ]
  },
  {
   "cell_type": "code",
   "execution_count": 2,
   "metadata": {},
   "outputs": [],
   "source": [
    "dataset = pd.read_csv('IT_jobs.csv')"
   ]
  },
  {
   "cell_type": "code",
   "execution_count": 3,
   "metadata": {},
   "outputs": [
    {
     "name": "stderr",
     "output_type": "stream",
     "text": [
      "[nltk_data] Downloading package stopwords to\n",
      "[nltk_data]     C:\\Users\\suman\\AppData\\Roaming\\nltk_data...\n",
      "[nltk_data]   Package stopwords is already up-to-date!\n"
     ]
    }
   ],
   "source": [
    "import re\n",
    "import nltk\n",
    "\n",
    "nltk.download('stopwords')\n",
    "\n",
    "from nltk.corpus import stopwords\n",
    "from nltk.stem.porter import PorterStemmer\n",
    "\n",
    "corpus = []\n",
    "for i in range(0, 10000):\n",
    "    review = re.sub('[^a-zA-Z]', ' ', dataset['Description'][i])\n",
    "    review = review.lower()\n",
    "    review = review.split()\n",
    "    ps = PorterStemmer()\n",
    "    all_stopwords = stopwords.words('english')\n",
    "    all_stopwords.remove('not')\n",
    "    review = [ps.stem(word) for word in review if not word in set(all_stopwords)]\n",
    "    review = ' '.join(review)\n",
    "    corpus.append(review)"
   ]
  },
  {
   "cell_type": "code",
   "execution_count": 4,
   "metadata": {},
   "outputs": [],
   "source": [
    "from sklearn.feature_extraction.text import CountVectorizer\n",
    "\n",
    "cv = CountVectorizer(max_features = 7000)\n",
    "x = cv.fit_transform(corpus).toarray()\n",
    "y = dataset.iloc[:, -1].values"
   ]
  },
  {
   "cell_type": "code",
   "execution_count": 5,
   "metadata": {},
   "outputs": [
    {
     "data": {
      "text/plain": [
       "7000"
      ]
     },
     "execution_count": 5,
     "metadata": {},
     "output_type": "execute_result"
    }
   ],
   "source": [
    "len(x[0])"
   ]
  },
  {
   "cell_type": "code",
   "execution_count": 6,
   "metadata": {},
   "outputs": [],
   "source": [
    "from sklearn.model_selection import train_test_split\n",
    "\n",
    "x_train, x_test, y_train, y_test = train_test_split(x, y, test_size = 0.2, random_state = 0)"
   ]
  },
  {
   "cell_type": "code",
   "execution_count": 7,
   "metadata": {},
   "outputs": [
    {
     "data": {
      "text/plain": [
       "SVC(kernel='linear', random_state=0)"
      ]
     },
     "execution_count": 7,
     "metadata": {},
     "output_type": "execute_result"
    }
   ],
   "source": [
    "from sklearn.svm import SVC\n",
    "\n",
    "classifier = SVC(kernel = 'linear', random_state = 0)\n",
    "classifier.fit(x_train, y_train)"
   ]
  },
  {
   "cell_type": "code",
   "execution_count": 8,
   "metadata": {},
   "outputs": [],
   "source": [
    "import pickle\n",
    "\n",
    "filename = 'finalized_model.sav'\n",
    "pickle.dump(classifier, open(filename, 'wb'))"
   ]
  },
  {
   "cell_type": "code",
   "execution_count": 9,
   "metadata": {},
   "outputs": [
    {
     "name": "stdout",
     "output_type": "stream",
     "text": [
      "[['Information Security Analyst' 'Information Security Analyst']\n",
      " ['Data Architect' 'Data Architect']\n",
      " ['Business Analyst' 'Business Analyst']\n",
      " ...\n",
      " ['Network Architect' 'Network Architect']\n",
      " ['Business Intelligence Analyst' 'Business Analyst']\n",
      " ['IT Consultant' 'IT Consultant']]\n"
     ]
    }
   ],
   "source": [
    "y_pred = classifier.predict(x_test)\n",
    "print(np.concatenate((y_pred.reshape(len(y_pred), 1), y_test.reshape(len(y_test), 1)), 1))"
   ]
  },
  {
   "cell_type": "code",
   "execution_count": 10,
   "metadata": {},
   "outputs": [
    {
     "name": "stdout",
     "output_type": "stream",
     "text": [
      "[[44  0  1  0  1  2  1  2  2  0  2  4  0  2  0  1  1  0  0  1  6  0  2  0\n",
      "   3]\n",
      " [ 1 35  0  0  2  1  0  3 19  2  3  1  1  0  0  0  0  0  0  0  1  2  0  0\n",
      "   2]\n",
      " [ 0  0 48  6  3  1  6  0  0  4  0  0  0  2  1  0  0  2  1  1  0  0  2  3\n",
      "   6]\n",
      " [ 2  0  9 49  0  0  4  1  0  2  0  5  1  5  0  1  0  1  0  1  0  0  1  0\n",
      "   0]\n",
      " [ 2  0  0  2 63 13  0  1  0  0  1  0  0  1  0  0  0  1  0  2  0 12  0  0\n",
      "   3]\n",
      " [ 4  1  0  0  6 44  0  0  0  0  0  0  0  2  1  0 11  2  1  1  0  1  0  1\n",
      "   4]\n",
      " [ 0  0  9  8  0  1 20  0  6  4  2  3  3  1  1  0  0  0  1  3  0  0  2  1\n",
      "   0]\n",
      " [ 0  5  4  2  3  3  2 34  6  1  0  1  1  1  2  0  0  0  1  0  1  4  0  1\n",
      "   0]\n",
      " [ 1  5  0  2  1  0  3  3 33  1  1  0  2  1  0  0  2  3  0  0  4  2  0  5\n",
      "   3]\n",
      " [ 0  0  0  0  0  2  7  2  0 36  0  0  1  9  2  0  0  1  1  0  0  2  2  4\n",
      "   2]\n",
      " [ 2  1  1  0  0  0  5  2  7  0 46  4  0  5  0  1  0  0  0  0  7  0  3  0\n",
      "   2]\n",
      " [ 2  2  1  6  0  1  6  3  3  0  6 32  1  2  1  0  0  0  0  1  1  0  1  0\n",
      "   0]\n",
      " [ 1  2  1  1  0  1  5  1  1  2  4  3 57  1  1  0  0  0  0  0  1  0  1  2\n",
      "   0]\n",
      " [ 5  0  3  2  2  1  5  1  1  3  0  2  5 42  0  0  0  0  0  0  1  0  0  2\n",
      "   0]\n",
      " [ 0  1  0  1  0  0  3  2  1  2  0  0  1  1 58  1  1  0  6  1  1  0  0  1\n",
      "   1]\n",
      " [ 6  0  0  0  0  1  2  0  0  2  1  1  0  1  0 68  0  2  1  0  4  1  1  4\n",
      "   1]\n",
      " [ 2  3  0  0  1  6  0  0  3  0  0  0  0  0  0  0 60  0  0  0  0  0  0  0\n",
      "   0]\n",
      " [ 0  0  1  0  0  2  0  0  0  2  0  0  2  3  1  0  0 67  0  2  0  1  3  4\n",
      "   1]\n",
      " [ 0  1  0  0  1  1  0  0  0  2  0  0  0  0  6  0  1  0 64  2  0  0  1  0\n",
      "   6]\n",
      " [ 0  0  0  0  1  0  3  0  0  1  0  0  2  0  5  0  0  1  5 56  0  1  0  1\n",
      "   5]\n",
      " [ 6  1  0  0  0  2  1  0  0  2  5  1  0  3  0  4  0  1  0  0 39  0  0  1\n",
      "   1]\n",
      " [ 0  0  0  0 12  2  0  6  0  0  0  0  0  0  0  2  0  0  3  1  2 71  0  1\n",
      "   0]\n",
      " [ 0  0  2  0  0  0 11  0  1  2  1  0  2  1  5  0  0  0  0  2  2  0 39  4\n",
      "   0]\n",
      " [ 0  1  2  0  0  3  0  1  3  5  1  0  2  1  3  2  1  0  4  2  1  0  8 56\n",
      "   2]\n",
      " [ 2  0  0  0  4  1  0  0  0  0  0  2  1  0  0  0  3  1  0  3  0  0  0  6\n",
      "  41]]\n",
      "\n",
      " 60.099999999999994 %\n"
     ]
    }
   ],
   "source": [
    "from sklearn.metrics import confusion_matrix, accuracy_score\n",
    "\n",
    "cm = confusion_matrix(y_test, y_pred)\n",
    "print(cm)\n",
    "print(\"\\n\",accuracy_score(y_test, y_pred) * 100,\"%\")"
   ]
  },
  {
   "cell_type": "code",
   "execution_count": 11,
   "metadata": {},
   "outputs": [
    {
     "name": "stdout",
     "output_type": "stream",
     "text": [
      "0.601\n"
     ]
    }
   ],
   "source": [
    "loaded_model = pickle.load(open(filename, 'rb'))\n",
    "result = loaded_model.score(x_test, y_test)\n",
    "print(result)"
   ]
  },
  {
   "cell_type": "code",
   "execution_count": 12,
   "metadata": {},
   "outputs": [
    {
     "data": {
      "text/plain": [
       "(0.5993354202735821, 0.5934256883683285, 0.5943789272461513, None)"
      ]
     },
     "execution_count": 12,
     "metadata": {},
     "output_type": "execute_result"
    }
   ],
   "source": [
    "from sklearn.metrics import precision_recall_fscore_support\n",
    "\n",
    "precision_recall_fscore_support(y_test, y_pred, average='macro')"
   ]
  },
  {
   "cell_type": "code",
   "execution_count": null,
   "metadata": {},
   "outputs": [],
   "source": []
  }
 ],
 "metadata": {
  "kernelspec": {
   "display_name": "Python 3",
   "language": "python",
   "name": "python3"
  },
  "language_info": {
   "codemirror_mode": {
    "name": "ipython",
    "version": 3
   },
   "file_extension": ".py",
   "mimetype": "text/x-python",
   "name": "python",
   "nbconvert_exporter": "python",
   "pygments_lexer": "ipython3",
   "version": "3.8.5"
  }
 },
 "nbformat": 4,
 "nbformat_minor": 4
}
